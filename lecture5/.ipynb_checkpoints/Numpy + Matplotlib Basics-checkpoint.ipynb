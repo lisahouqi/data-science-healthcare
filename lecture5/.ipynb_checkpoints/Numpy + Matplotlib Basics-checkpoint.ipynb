{
 "cells": [
  {
   "cell_type": "markdown",
   "metadata": {},
   "source": [
    "# If-statement in Python\n"
   ]
  },
  {
   "cell_type": "code",
   "execution_count": null,
   "metadata": {},
   "outputs": [],
   "source": [
    "guests = ['Alice', 'Bob', 'Charlie']\n",
    "\n",
    "max_guests = 3\n",
    "if len(guests) > max_guests：\n",
    "    # Too many guests in on the list\n",
    "    print('There are too many guests')\n",
    "else\n",
    "    # 0, 1, 2, ... max guests in list\n",
    "    print('Found', len(gues))"
   ]
  }
 ],
 "metadata": {
  "kernelspec": {
   "display_name": "Python 3",
   "language": "python",
   "name": "python3"
  },
  "language_info": {
   "codemirror_mode": {
    "name": "ipython",
    "version": 3
   },
   "file_extension": ".py",
   "mimetype": "text/x-python",
   "name": "python",
   "nbconvert_exporter": "python",
   "pygments_lexer": "ipython3",
   "version": "3.7.3"
  }
 },
 "nbformat": 4,
 "nbformat_minor": 2
}
